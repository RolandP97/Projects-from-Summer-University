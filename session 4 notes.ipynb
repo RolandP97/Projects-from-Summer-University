{
 "cells": [
  {
   "cell_type": "code",
   "execution_count": 46,
   "metadata": {},
   "outputs": [],
   "source": [
    "import numpy as np\n",
    "import matplotlib.pyplot as plt\n",
    "import pandas as pd\n",
    "import seaborn as sns"
   ]
  },
  {
   "cell_type": "code",
   "execution_count": 47,
   "metadata": {},
   "outputs": [],
   "source": [
    "df = pd.read_csv(\"salaryData.csv\")"
   ]
  },
  {
   "cell_type": "code",
   "execution_count": 48,
   "metadata": {},
   "outputs": [],
   "source": [
    "x = df.iloc[:, :-1].values\n",
    "y = df.iloc[:, 1].values"
   ]
  },
  {
   "cell_type": "code",
   "execution_count": 49,
   "metadata": {},
   "outputs": [],
   "source": [
    "from sklearn.model_selection import train_test_split\n",
    "\n",
    "xTrain, xTest, yTrain, yTest = train_test_split(x, y, test_size=1 / 3, random_state=7)"
   ]
  },
  {
   "cell_type": "code",
   "execution_count": 50,
   "metadata": {},
   "outputs": [],
   "source": [
    "from sklearn.linear_model import LinearRegression\n",
    "\n",
    "linearRegressor = LinearRegression()"
   ]
  },
  {
   "cell_type": "code",
   "execution_count": 51,
   "metadata": {},
   "outputs": [
    {
     "data": {
      "text/plain": [
       "LinearRegression(copy_X=True, fit_intercept=True, n_jobs=None,\n",
       "         normalize=False)"
      ]
     },
     "execution_count": 51,
     "metadata": {},
     "output_type": "execute_result"
    }
   ],
   "source": [
    "linearRegressor.fit(xTrain, yTrain)"
   ]
  },
  {
   "cell_type": "code",
   "execution_count": 52,
   "metadata": {},
   "outputs": [
    {
     "name": "stdout",
     "output_type": "stream",
     "text": [
      "[ 38744.28011204  75907.          36788.34748636  60259.53899455\n",
      "  63193.43793307  52435.80849182  81774.79787705 109157.85463659\n",
      " 117959.55145216 126761.24826773]\n"
     ]
    }
   ],
   "source": [
    "yPrediction = linearRegressor.predict(xTest)\n",
    "print(yPrediction)"
   ]
  },
  {
   "cell_type": "code",
   "execution_count": 53,
   "metadata": {},
   "outputs": [
    {
     "name": "stdout",
     "output_type": "stream",
     "text": [
      "Coefficients:  [9779.66312841]\n",
      "Mean squared error: 27563856.33\n",
      "Variance score: 0.97\n"
     ]
    }
   ],
   "source": [
    "from sklearn.metrics import mean_squared_error, r2_score\n",
    "\n",
    "# The coefficients\n",
    "print(\"Coefficients: \", linearRegressor.coef_)\n",
    "# The mean squared error\n",
    "print(\"Mean squared error: %.2f\" % mean_squared_error(yTest, yPrediction))\n",
    "# Explained variance score: 1 is perfect prediction\n",
    "print(\"Variance score: %.2f\" % r2_score(yTest, yPrediction))"
   ]
  },
  {
   "cell_type": "code",
   "execution_count": 54,
   "metadata": {},
   "outputs": [
    {
     "data": {
      "image/png": "[encoded data removed]",
      "text/plain": [
       "<Figure size 432x288 with 1 Axes>"
      ]
     },
     "metadata": {
      "needs_background": "light"
     },
     "output_type": "display_data"
    }
   ],
   "source": [
    "# Plot outputs\n",
    "fig = plt.figure()\n",
    "ax1 = fig.add_subplot(111)\n",
    "ax1.scatter(xTrain, yTrain, s=12, c=\"g\", marker=\"s\", label=\"Training data\")\n",
    "ax1.scatter(xTest, yTest, s=12, c=\"r\", marker=\"o\", label=\"Testing data\")\n",
    "ax1.plot(xTest, yPrediction, color=\"blue\", linewidth=3, label=\"Regression line\")\n",
    "ax1.legend(loc=\"upper left\")\n",
    "plt.title(\"Salary vs Experience\")\n",
    "plt.xlabel(\"Years of Experience\")\n",
    "plt.ylabel(\"Salary\")\n",
    "plt.show()"
   ]
  },
  {
   "cell_type": "code",
   "execution_count": 55,
   "metadata": {},
   "outputs": [],
   "source": [
    "# Import the dataset\n",
    "df = pd.read_csv(\"Big_Mart_Sales.csv\")"
   ]
  },
  {
   "cell_type": "code",
   "execution_count": 56,
   "metadata": {},
   "outputs": [
    {
     "data": {
      "text/html": [
       "<div>\n",
       "<style scoped>\n",
       "    .dataframe tbody tr th:only-of-type {\n",
       "        vertical-align: middle;\n",
       "    }\n",
       "\n",
       "    .dataframe tbody tr th {\n",
       "        vertical-align: top;\n",
       "    }\n",
       "\n",
       "    .dataframe thead th {\n",
       "        text-align: right;\n",
       "    }\n",
       "</style>\n",
       "<table border=\"1\" class=\"dataframe\">\n",
       "  <thead>\n",
       "    <tr style=\"text-align: right;\">\n",
       "      <th></th>\n",
       "      <th>Item_Identifier</th>\n",
       "      <th>Item_Weight</th>\n",
       "      <th>Item_Visibility</th>\n",
       "      <th>Item_MRP</th>\n",
       "      <th>Outlet_Establishment_Year</th>\n",
       "      <th>Item_Outlet_Sales</th>\n",
       "    </tr>\n",
       "  </thead>\n",
       "  <tbody>\n",
       "    <tr>\n",
       "      <th>0</th>\n",
       "      <td>FDA15</td>\n",
       "      <td>9.300</td>\n",
       "      <td>0.016047</td>\n",
       "      <td>249.8092</td>\n",
       "      <td>1999</td>\n",
       "      <td>3735.1380</td>\n",
       "    </tr>\n",
       "    <tr>\n",
       "      <th>1</th>\n",
       "      <td>DRC01</td>\n",
       "      <td>5.920</td>\n",
       "      <td>0.019278</td>\n",
       "      <td>48.2692</td>\n",
       "      <td>2009</td>\n",
       "      <td>443.4228</td>\n",
       "    </tr>\n",
       "    <tr>\n",
       "      <th>2</th>\n",
       "      <td>FDN15</td>\n",
       "      <td>17.500</td>\n",
       "      <td>0.016760</td>\n",
       "      <td>141.6180</td>\n",
       "      <td>1999</td>\n",
       "      <td>2097.2700</td>\n",
       "    </tr>\n",
       "    <tr>\n",
       "      <th>3</th>\n",
       "      <td>FDX07</td>\n",
       "      <td>19.200</td>\n",
       "      <td>0.000000</td>\n",
       "      <td>182.0950</td>\n",
       "      <td>1998</td>\n",
       "      <td>732.3800</td>\n",
       "    </tr>\n",
       "    <tr>\n",
       "      <th>4</th>\n",
       "      <td>NCD19</td>\n",
       "      <td>8.930</td>\n",
       "      <td>0.000000</td>\n",
       "      <td>53.8614</td>\n",
       "      <td>1987</td>\n",
       "      <td>994.7052</td>\n",
       "    </tr>\n",
       "    <tr>\n",
       "      <th>5</th>\n",
       "      <td>FDP36</td>\n",
       "      <td>10.395</td>\n",
       "      <td>0.000000</td>\n",
       "      <td>51.4008</td>\n",
       "      <td>2009</td>\n",
       "      <td>556.6088</td>\n",
       "    </tr>\n",
       "    <tr>\n",
       "      <th>6</th>\n",
       "      <td>FDO10</td>\n",
       "      <td>13.650</td>\n",
       "      <td>0.012741</td>\n",
       "      <td>57.6588</td>\n",
       "      <td>1987</td>\n",
       "      <td>343.5528</td>\n",
       "    </tr>\n",
       "    <tr>\n",
       "      <th>7</th>\n",
       "      <td>FDP10</td>\n",
       "      <td>NaN</td>\n",
       "      <td>0.127470</td>\n",
       "      <td>107.7622</td>\n",
       "      <td>1985</td>\n",
       "      <td>4022.7636</td>\n",
       "    </tr>\n",
       "    <tr>\n",
       "      <th>8</th>\n",
       "      <td>FDH17</td>\n",
       "      <td>16.200</td>\n",
       "      <td>0.016687</td>\n",
       "      <td>96.9726</td>\n",
       "      <td>2002</td>\n",
       "      <td>1076.5986</td>\n",
       "    </tr>\n",
       "    <tr>\n",
       "      <th>9</th>\n",
       "      <td>FDU28</td>\n",
       "      <td>19.200</td>\n",
       "      <td>0.094450</td>\n",
       "      <td>187.8214</td>\n",
       "      <td>2007</td>\n",
       "      <td>4710.5350</td>\n",
       "    </tr>\n",
       "    <tr>\n",
       "      <th>10</th>\n",
       "      <td>FDY07</td>\n",
       "      <td>11.800</td>\n",
       "      <td>0.000000</td>\n",
       "      <td>45.5402</td>\n",
       "      <td>1999</td>\n",
       "      <td>1516.0266</td>\n",
       "    </tr>\n",
       "    <tr>\n",
       "      <th>11</th>\n",
       "      <td>FDA03</td>\n",
       "      <td>18.500</td>\n",
       "      <td>0.045464</td>\n",
       "      <td>144.1102</td>\n",
       "      <td>1997</td>\n",
       "      <td>2187.1530</td>\n",
       "    </tr>\n",
       "    <tr>\n",
       "      <th>12</th>\n",
       "      <td>FDX32</td>\n",
       "      <td>15.100</td>\n",
       "      <td>0.100014</td>\n",
       "      <td>145.4786</td>\n",
       "      <td>1999</td>\n",
       "      <td>1589.2646</td>\n",
       "    </tr>\n",
       "    <tr>\n",
       "      <th>13</th>\n",
       "      <td>FDS46</td>\n",
       "      <td>17.600</td>\n",
       "      <td>0.047257</td>\n",
       "      <td>119.6782</td>\n",
       "      <td>1997</td>\n",
       "      <td>2145.2076</td>\n",
       "    </tr>\n",
       "    <tr>\n",
       "      <th>14</th>\n",
       "      <td>FDF32</td>\n",
       "      <td>16.350</td>\n",
       "      <td>0.068024</td>\n",
       "      <td>196.4426</td>\n",
       "      <td>1987</td>\n",
       "      <td>1977.4260</td>\n",
       "    </tr>\n",
       "    <tr>\n",
       "      <th>15</th>\n",
       "      <td>FDP49</td>\n",
       "      <td>9.000</td>\n",
       "      <td>0.069089</td>\n",
       "      <td>56.3614</td>\n",
       "      <td>1997</td>\n",
       "      <td>1547.3192</td>\n",
       "    </tr>\n",
       "    <tr>\n",
       "      <th>16</th>\n",
       "      <td>NCB42</td>\n",
       "      <td>11.800</td>\n",
       "      <td>0.008596</td>\n",
       "      <td>115.3492</td>\n",
       "      <td>2009</td>\n",
       "      <td>1621.8888</td>\n",
       "    </tr>\n",
       "    <tr>\n",
       "      <th>17</th>\n",
       "      <td>FDP49</td>\n",
       "      <td>9.000</td>\n",
       "      <td>0.069196</td>\n",
       "      <td>54.3614</td>\n",
       "      <td>1999</td>\n",
       "      <td>718.3982</td>\n",
       "    </tr>\n",
       "    <tr>\n",
       "      <th>18</th>\n",
       "      <td>DRI11</td>\n",
       "      <td>NaN</td>\n",
       "      <td>0.034238</td>\n",
       "      <td>113.2834</td>\n",
       "      <td>1985</td>\n",
       "      <td>2303.6680</td>\n",
       "    </tr>\n",
       "    <tr>\n",
       "      <th>19</th>\n",
       "      <td>FDU02</td>\n",
       "      <td>13.350</td>\n",
       "      <td>0.102492</td>\n",
       "      <td>230.5352</td>\n",
       "      <td>2004</td>\n",
       "      <td>2748.4224</td>\n",
       "    </tr>\n",
       "  </tbody>\n",
       "</table>\n",
       "</div>"
      ],
      "text/plain": [
       "   Item_Identifier  Item_Weight  Item_Visibility  Item_MRP  \\\n",
       "0            FDA15        9.300         0.016047  249.8092   \n",
       "1            DRC01        5.920         0.019278   48.2692   \n",
       "2            FDN15       17.500         0.016760  141.6180   \n",
       "3            FDX07       19.200         0.000000  182.0950   \n",
       "4            NCD19        8.930         0.000000   53.8614   \n",
       "5            FDP36       10.395         0.000000   51.4008   \n",
       "6            FDO10       13.650         0.012741   57.6588   \n",
       "7            FDP10          NaN         0.127470  107.7622   \n",
       "8            FDH17       16.200         0.016687   96.9726   \n",
       "9            FDU28       19.200         0.094450  187.8214   \n",
       "10           FDY07       11.800         0.000000   45.5402   \n",
       "11           FDA03       18.500         0.045464  144.1102   \n",
       "12           FDX32       15.100         0.100014  145.4786   \n",
       "13           FDS46       17.600         0.047257  119.6782   \n",
       "14           FDF32       16.350         0.068024  196.4426   \n",
       "15           FDP49        9.000         0.069089   56.3614   \n",
       "16           NCB42       11.800         0.008596  115.3492   \n",
       "17           FDP49        9.000         0.069196   54.3614   \n",
       "18           DRI11          NaN         0.034238  113.2834   \n",
       "19           FDU02       13.350         0.102492  230.5352   \n",
       "\n",
       "    Outlet_Establishment_Year  Item_Outlet_Sales  \n",
       "0                        1999          3735.1380  \n",
       "1                        2009           443.4228  \n",
       "2                        1999          2097.2700  \n",
       "3                        1998           732.3800  \n",
       "4                        1987           994.7052  \n",
       "5                        2009           556.6088  \n",
       "6                        1987           343.5528  \n",
       "7                        1985          4022.7636  \n",
       "8                        2002          1076.5986  \n",
       "9                        2007          4710.5350  \n",
       "10                       1999          1516.0266  \n",
       "11                       1997          2187.1530  \n",
       "12                       1999          1589.2646  \n",
       "13                       1997          2145.2076  \n",
       "14                       1987          1977.4260  \n",
       "15                       1997          1547.3192  \n",
       "16                       2009          1621.8888  \n",
       "17                       1999           718.3982  \n",
       "18                       1985          2303.6680  \n",
       "19                       2004          2748.4224  "
      ]
     },
     "execution_count": 56,
     "metadata": {},
     "output_type": "execute_result"
    }
   ],
   "source": [
    "df.head(20)"
   ]
  },
  {
   "cell_type": "code",
   "execution_count": 57,
   "metadata": {},
   "outputs": [
    {
     "data": {
      "text/plain": [
       "(8523, 6)"
      ]
     },
     "execution_count": 57,
     "metadata": {},
     "output_type": "execute_result"
    }
   ],
   "source": [
    "df.shape"
   ]
  },
  {
   "cell_type": "code",
   "execution_count": 74,
   "metadata": {},
   "outputs": [
    {
     "name": "stdout",
     "output_type": "stream",
     "text": [
      "      pede Item_Identifier  Frequency\n",
      "0        0           FDG33         10\n",
      "1        1           FDW13         10\n",
      "2       14           FDQ40          9\n",
      "3       25           FDX04          9\n",
      "4       24           FDO19          9\n",
      "5       23           DRE49          9\n",
      "6       22           NCB18          9\n",
      "7       21           NCQ06          9\n",
      "8       20           DRN47          9\n",
      "9       19           FDX31          9\n",
      "10      18           FDX20          9\n",
      "11      17           FDU12          9\n",
      "12      16           FDW26          9\n",
      "13      15           FDF56          9\n",
      "14      26           FDT07          9\n",
      "15      13           FDV38          9\n",
      "16       6           FDV60          9\n",
      "17      12           FDW49          9\n",
      "18       3           FDP25          9\n",
      "19       4           NCL31          9\n",
      "20       5           NCI54          9\n",
      "21       2           FDD38          9\n",
      "22       7           NCJ30          9\n",
      "23       9           FDF52          9\n",
      "24      10           FDG09          9\n",
      "25      11           NCF42          9\n",
      "26       8           NCY18          9\n",
      "27     102           FDW48          8\n",
      "28      98           FDZ33          8\n",
      "29      99           FDS52          8\n",
      "...    ...             ...        ...\n",
      "1529  1549           FDA48          2\n",
      "1530  1533           FDD22          2\n",
      "1531  1534           FDH22          2\n",
      "1532  1523           NCW05          2\n",
      "1533  1532           FDM38          2\n",
      "1534  1522           DRG25          2\n",
      "1535  1515           FDU09          2\n",
      "1536  1516           FDZ50          2\n",
      "1537  1517           FDE39          2\n",
      "1538  1531           FDF38          2\n",
      "1539  1519           FDB10          2\n",
      "1540  1520           NCG19          2\n",
      "1541  1521           FDD48          2\n",
      "1542  1518           FDI36          2\n",
      "1543  1524           FDU43          2\n",
      "1544  1525           DRI59          2\n",
      "1545  1526           FDB47          2\n",
      "1546  1527           NCC55          2\n",
      "1547  1528           FDR57          2\n",
      "1548  1529           DRE01          2\n",
      "1549  1530           FDW10          2\n",
      "1550  1550           FDY43          1\n",
      "1551  1551           FDC23          1\n",
      "1552  1552           FDO33          1\n",
      "1553  1553           FDT35          1\n",
      "1554  1554           FDN52          1\n",
      "1555  1555           FDK57          1\n",
      "1556  1556           FDQ60          1\n",
      "1557  1557           DRF48          1\n",
      "1558  1558           FDE52          1\n",
      "\n",
      "[1559 rows x 3 columns]\n"
     ]
    }
   ],
   "source": [
    "tab_item = (\n",
    "    df[\"Item_Identifier\"]\n",
    "    .value_counts()\n",
    "    .reset_index()\n",
    "    .sort_values('Item_Identifier', ascending=False)\n",
    "    .reset_index()\n",
    ")   #loob item identifier kõrvale frequency tabeli, mitu korda mingit asja esines fail\n",
    "tab_item.columns = ['pede', 'Item_Identifier', 'Frequency']\n",
    "tab_item.columns\n",
    "\n",
    "tab_item.drop('pede', axis = 1)\n",
    "print (tab_item)"
   ]
  },
  {
   "cell_type": "code",
   "execution_count": null,
   "metadata": {},
   "outputs": [],
   "source": [
    "df.columns"
   ]
  },
  {
   "cell_type": "code",
   "execution_count": null,
   "metadata": {},
   "outputs": [],
   "source": [
    "df2 = df.loc[~df[\"Item_Weight\"].isnull()] #võtab välja kõik NaN väärtused Item weightist\n",
    "df2.ndim\n",
    "df.shape"
   ]
  },
  {
   "cell_type": "code",
   "execution_count": null,
   "metadata": {},
   "outputs": [],
   "source": [
    "df2.shape\n",
    "df2.describe()"
   ]
  },
  {
   "cell_type": "code",
   "execution_count": null,
   "metadata": {
    "scrolled": false
   },
   "outputs": [],
   "source": [
    "sns.pairplot(df2, diag_kind='kde')"
   ]
  },
  {
   "cell_type": "code",
   "execution_count": null,
   "metadata": {},
   "outputs": [],
   "source": [
    "a = df2.iloc[:, 1:-1].values\n",
    "b = df2.iloc[:, -1].values\n",
    "print (a.shape)"
   ]
  },
  {
   "cell_type": "code",
   "execution_count": null,
   "metadata": {},
   "outputs": [],
   "source": [
    "xTrain, xTest, yTrain, yTest = train_test_split(a, b, test_size = 1/3, random_state=7)"
   ]
  },
  {
   "cell_type": "code",
   "execution_count": null,
   "metadata": {},
   "outputs": [],
   "source": [
    "linearRegressor = LinearRegression()\n",
    "linearRegressor.fit(xTrain, yTrain)\n",
    "yPrediction = linearRegressor.predict(xTest)\n",
    "print (yPrediction)\n",
    "\n",
    "print ('Coefficients: ', linearRegressor.coef_) #the coefficient\n",
    "print ('Mean squared error: %.2f' % mean_squared_error(yTest, yPrediction)) #mean squared error\n",
    "print ('Variance score: %.2f' % r2_score(yTest, yPrediction))"
   ]
  },
  {
   "cell_type": "code",
   "execution_count": null,
   "metadata": {},
   "outputs": [],
   "source": [
    "df2.insert(5, \"Outlet_Establishment\", [\"Before 1997\" for x in range(df2.shape[0])]) #kategoriseerib outlet_establishmenti väärtused \n",
    "df2.loc[df2[\"Outlet_Establishment_Year\"] >= 1997, \"Outlet_Establishment\"] = \"1997-2005\" #kolme gruppi, before, 1997-2005 ja \n",
    "df2.loc[df2[\"Outlet_Establishment_Year\"] > 2005, \"Outlet_Establishment\"] = \"After 2005\" #after 2005\n",
    "df2.head()"
   ]
  },
  {
   "cell_type": "code",
   "execution_count": null,
   "metadata": {},
   "outputs": [],
   "source": [
    "df2.head()"
   ]
  },
  {
   "cell_type": "code",
   "execution_count": null,
   "metadata": {},
   "outputs": [],
   "source": [
    "sns.pairplot(df2, hue='Outlet_Establishment')"
   ]
  },
  {
   "cell_type": "code",
   "execution_count": null,
   "metadata": {},
   "outputs": [],
   "source": [
    "df3 = df2[df2[\"Outlet_Establishment\"] == \"Before 1997\"]\n",
    "x = df3.iloc[:, 1:-2].values\n",
    "y = df3.iloc[:, -1].values\n",
    "xTrain, xTest, yTrain, yTest = train_test_split(x, y, test_size=1 / 3, random_state=7)\n",
    "linearRegressor = LinearRegression()\n",
    "linearRegressor.fit(xTrain, yTrain)\n",
    "yPrediction = linearRegressor.predict(xTest)\n",
    "\n",
    "# The coefficients\n",
    "print(\"Coefficients: \", linearRegressor.coef_)\n",
    "# The mean squared error\n",
    "print(\"Mean squared error: %.2f\" % mean_squared_error(yTest, yPrediction))\n",
    "# Explained variance score: 1 is perfect prediction\n",
    "print(\"Variance score: %.2f\" % r2_score(yTest, yPrediction))"
   ]
  },
  {
   "cell_type": "code",
   "execution_count": null,
   "metadata": {},
   "outputs": [],
   "source": [
    "fig = plt.figure()\n",
    "ax1 = fig.add_subplot(111)\n",
    "ax1.scatter(xTrain, yTrain, s=12, c=\"g\", marker=\"s\", label=\"Training data\")\n",
    "ax1.scatter(xTest, yTest, s=12, c=\"r\", marker=\"o\", label=\"Testing data\")\n",
    "ax1.plot(xTest, yPrediction, color=\"blue\", linewidth=3, label=\"Regression line\")\n",
    "ax1.legend(loc=\"upper left\")\n",
    "plt.title(\"Salary vs Experience\")\n",
    "plt.xlabel(\"Years of Experience\")\n",
    "plt.ylabel(\"Salary\")\n",
    "plt.show()"
   ]
  },
  {
   "cell_type": "code",
   "execution_count": null,
   "metadata": {},
   "outputs": [],
   "source": [
    "df3.head()"
   ]
  }
 ],
 "metadata": {
  "kernelspec": {
   "display_name": "Python 3",
   "language": "python",
   "name": "python3"
  },
  "language_info": {
   "codemirror_mode": {
    "name": "ipython",
    "version": 3
   },
   "file_extension": ".py",
   "mimetype": "text/x-python",
   "name": "python",
   "nbconvert_exporter": "python",
   "pygments_lexer": "ipython3",
   "version": "3.7.1"
  },
  "varInspector": {
   "cols": {
    "lenName": 16,
    "lenType": 16,
    "lenVar": 40
   },
   "kernels_config": {
    "python": {
     "delete_cmd_postfix": "",
     "delete_cmd_prefix": "del ",
     "library": "var_list.py",
     "varRefreshCmd": "print(var_dic_list())"
    },
    "r": {
     "delete_cmd_postfix": ") ",
     "delete_cmd_prefix": "rm(",
     "library": "var_list.r",
     "varRefreshCmd": "cat(var_dic_list()) "
    }
   },
   "position": {
    "height": "474.4px",
    "left": "1086.6px",
    "right": "20px",
    "top": "165px",
    "width": "321.4px"
   },
   "types_to_exclude": [
    "module",
    "function",
    "builtin_function_or_method",
    "instance",
    "_Feature"
   ],
   "window_display": true
  }
 },
 "nbformat": 4,
 "nbformat_minor": 2
}
